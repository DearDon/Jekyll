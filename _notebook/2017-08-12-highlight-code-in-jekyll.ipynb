{
 "cells": [
  {
   "cell_type": "markdown",
   "metadata": {},
   "source": [
    "categories: other\n",
    "tags: notebook"
   ]
  },
  {
   "cell_type": "markdown",
   "metadata": {},
   "source": [
    "---"
   ]
  },
  {
   "cell_type": "markdown",
   "metadata": {},
   "source": [
    "#### **History:**"
   ]
  },
  {
   "cell_type": "markdown",
   "metadata": {},
   "source": [
    "* <em>2017-08-12</em>: create post for recording how to highlight code syntax in jekyll post by rouge, including install, setting and usage."
   ]
  },
  {
   "cell_type": "markdown",
   "metadata": {},
   "source": [
    "#### **Background:**"
   ]
  },
  {
   "cell_type": "markdown",
   "metadata": {},
   "source": [
    "Code is the most usual block we record for a technical blog. However code without good highlight and format is a mess for reading. Here I demostrate how I highlight the code in my jekyll(v3.\\*) post by rouge."
   ]
  },
  {
   "cell_type": "markdown",
   "metadata": {},
   "source": [
    "Old version of jekyll use redcarpet by default, and use pygments to highlight code. Since Jekyll upgrade to v3.\\*, it only suppport kramdown.\n",
    "Now github has udpate jekyll to v3.\\*, so GitHub Pages only supports Rouge as code highlighter."
   ]
  },
  {
   "cell_type": "markdown",
   "metadata": {},
   "source": [
    "According to <https://sacha.me/articles/jekyll-rouge/>, the easiest way to use Rouge is using the kramdown markdown parser. They recently added native support for Rouge and Jekyll has been supporting kramdown for a while now.<br>"
   ]
  },
  {
   "cell_type": "markdown",
   "metadata": {},
   "source": [
    "#### **Content:**"
   ]
  },
  {
   "cell_type": "markdown",
   "metadata": {},
   "source": [
    "##### 1.Install"
   ]
  },
  {
   "cell_type": "markdown",
   "metadata": {},
   "source": [
    "First, make sure you’re using a recent version of Jekyll (for example 2.5.0). You can check your installed version using `jekyll -v`."
   ]
  },
  {
   "cell_type": "markdown",
   "metadata": {},
   "source": [
    "Next up, you need to install kramdown and Rouge."
   ]
  },
  {
   "cell_type": "markdown",
   "metadata": {},
   "source": [
    "    gem install kramdown rouge"
   ]
  },
  {
   "cell_type": "markdown",
   "metadata": {},
   "source": [
    "If you already have a version of kramdown on your machine, make sure it’s at least on version 1.5.0. <br>\n",
    "If you’ve followed these steps so far you’re now ready to use kramdown and Rouge within your Jekyll setup.<br>\n",
    "By the way, if, like me, you’re always getting errors doing anything with Rouge, remember it’s called Rouge, not Rogue."
   ]
  },
  {
   "cell_type": "markdown",
   "metadata": {},
   "source": [
    "##### 2.Setting"
   ]
  },
  {
   "cell_type": "markdown",
   "metadata": {},
   "source": [
    "###### setting in _config.yml"
   ]
  },
  {
   "cell_type": "markdown",
   "metadata": {},
   "source": [
    "As with all options concerning your builds, the place to add them is in your `_config.yml`. "
   ]
  },
  {
   "cell_type": "markdown",
   "metadata": {},
   "source": [
    "You might have an entry like highlighter: pygments in there, make sure to remove that. "
   ]
  },
  {
   "cell_type": "markdown",
   "metadata": {},
   "source": [
    "According to virtua's [page](http://blog.virtuacreative.com.br/upgrade-jekyll-2-to-3-gh-pages.html). If you used pygments before, don’t worry, Rouge is fully compatible with it. So, the only thing to do is changing your _config.yml, making sure it has:"
   ]
  },
  {
   "cell_type": "markdown",
   "metadata": {},
   "source": [
    "    markdown: kramdown\n",
    "\n",
    "    kramdown:\n",
    "      input: GFM\n",
    "      syntax_highlighter: rouge"
   ]
  },
  {
   "cell_type": "markdown",
   "metadata": {},
   "source": [
    "Or for jekyll3:"
   ]
  },
  {
   "cell_type": "markdown",
   "metadata": {},
   "source": [
    "    markdown: kramdown\n",
    "\n",
    "    kramdown:\n",
    "      input: GFM\n",
    "    highlighter: rouge"
   ]
  },
  {
   "cell_type": "markdown",
   "metadata": {},
   "source": [
    "If you want to display line numbers on every code block, you can easily do that by adding this line to your _config.yml:"
   ]
  },
  {
   "cell_type": "markdown",
   "metadata": {},
   "source": [
    "    line_numbers: true"
   ]
  },
  {
   "cell_type": "markdown",
   "metadata": {},
   "source": [
    "Or you can use linenos to set line for each block. We'll show an example later."
   ]
  },
  {
   "cell_type": "markdown",
   "metadata": {},
   "source": [
    "###### generate css style file"
   ]
  },
  {
   "cell_type": "markdown",
   "metadata": {},
   "source": [
    "You need to use a css file to manage your syntax style for jekyll page. <br>\n",
    "To generate such syntax.css file, you need choose a style. You can get all availables by:"
   ]
  },
  {
   "cell_type": "markdown",
   "metadata": {},
   "source": [
    "    rougify help style"
   ]
  },
  {
   "cell_type": "markdown",
   "metadata": {},
   "source": [
    "Then choose one to generate css file, take monokai style for example. In your jekyll bolg root path:"
   ]
  },
  {
   "cell_type": "markdown",
   "metadata": {},
   "source": [
    "    rougify style monokai > css/syntax.css"
   ]
  },
  {
   "cell_type": "markdown",
   "metadata": {},
   "source": [
    "Add css file setting to you layout file _layouts/default.html:"
   ]
  },
  {
   "cell_type": "markdown",
   "metadata": {},
   "source": [
    "    <!-- Syntax CSS -->\n",
    "        <link href=\"/css/syntax.css\" rel=\"stylesheet\">"
   ]
  },
  {
   "cell_type": "markdown",
   "metadata": {},
   "source": [
    "Now, all setting's done!!!"
   ]
  },
  {
   "cell_type": "markdown",
   "metadata": {},
   "source": [
    "##### Usage"
   ]
  },
  {
   "cell_type": "markdown",
   "metadata": {},
   "source": [
    "With Rouge, you won’t need Python installed locally to work on your Jekyll site. It is fully written in Ruby. It also provides full backtick support for highlighting your code."
   ]
  },
  {
   "cell_type": "markdown",
   "metadata": {},
   "source": [
    "No only you can do with writing the usual highlight:"
   ]
  },
  {
   "cell_type": "raw",
   "metadata": {},
   "source": [
    "{% raw %}\n",
    "    {% highlight %} \n",
    "    ...code...\n",
    "    {% endhighlight %}\n",
    "{% endraw %}"
   ]
  },
  {
   "cell_type": "markdown",
   "metadata": {},
   "source": [
    "You can do the same with backticks:"
   ]
  },
  {
   "cell_type": "raw",
   "metadata": {},
   "source": [
    "{% raw %}\n",
    "    ```html\n",
    "    ...code...\n",
    "    ```\n",
    "{% endraw %}"
   ]
  },
  {
   "cell_type": "markdown",
   "metadata": {},
   "source": [
    "And you can also add line numbers:"
   ]
  },
  {
   "cell_type": "markdown",
   "metadata": {},
   "source": [
    "{% highlight ruby linenos %}\n",
    "def foo\n",
    "  puts 'foo'\n",
    "end\n",
    "{% endhighlight %}"
   ]
  },
  {
   "cell_type": "markdown",
   "metadata": {},
   "source": [
    "with the standard highlight markup:"
   ]
  },
  {
   "cell_type": "raw",
   "metadata": {},
   "source": [
    "{% raw %}\n",
    "    {% highlight ruby linenos %}\n",
    "    def foo\n",
    "      puts 'foo'\n",
    "    end\n",
    "    {% endhighlight %}\n",
    "{% endraw %}"
   ]
  },
  {
   "cell_type": "markdown",
   "metadata": {},
   "source": [
    "Note that both highlight and backticks are fully supported by Rouge."
   ]
  },
  {
   "cell_type": "markdown",
   "metadata": {},
   "source": [
    "#### **Questions:**"
   ]
  },
  {
   "cell_type": "markdown",
   "metadata": {},
   "source": [
    "##### 1.code highlight without color "
   ]
  },
  {
   "cell_type": "markdown",
   "metadata": {},
   "source": [
    "I've encounted a problem that highlight just didn't work after all setting and installation are done.It turn out to be a quite easy issue. Just lack of css file to tell highlight which color style should be used!!<br>\n",
    "So if you have the same problem, just generate the css file for your page. "
   ]
  },
  {
   "cell_type": "markdown",
   "metadata": {},
   "source": [
    "Please get details from the post for generate syntax.css file!!"
   ]
  }
 ],
 "metadata": {
  "kernelspec": {
   "display_name": "Python 2",
   "language": "python",
   "name": "python2"
  },
  "language_info": {
   "codemirror_mode": {
    "name": "ipython",
    "version": 2
   },
   "file_extension": ".py",
   "mimetype": "text/x-python",
   "name": "python",
   "nbconvert_exporter": "python",
   "pygments_lexer": "ipython2",
   "version": "2.7.12"
  }
 },
 "nbformat": 4,
 "nbformat_minor": 2
}
