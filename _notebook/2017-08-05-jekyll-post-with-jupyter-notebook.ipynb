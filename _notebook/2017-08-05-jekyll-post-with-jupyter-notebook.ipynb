{
 "cells": [
  {
   "cell_type": "markdown",
   "metadata": {},
   "source": [
    "categories: trial\n",
    "tags: jekyll"
   ]
  },
  {
   "cell_type": "markdown",
   "metadata": {},
   "source": [
    "---"
   ]
  },
  {
   "cell_type": "markdown",
   "metadata": {},
   "source": [
    "#### **Abstract:**"
   ]
  },
  {
   "cell_type": "markdown",
   "metadata": {},
   "source": [
    "This page show you how to use the amazing jupyter notebook to write jekyll post.<br>"
   ]
  },
  {
   "cell_type": "markdown",
   "metadata": {},
   "source": [
    "#### **Content:**"
   ]
  },
  {
   "cell_type": "markdown",
   "metadata": {},
   "source": [
    "Jupyer notebook is an amazing tool for seeing the output while showing/sharing codes to others.\n",
    "You can edit python code, markdown like a txt, but the magic thing is you can organize them into block, can run the block directly.\n",
    "You can save the code, description and output all in a ipynb file. And show them in a web page."
   ]
  },
  {
   "cell_type": "markdown",
   "metadata": {},
   "source": [
    "Jekyll is a nice server for blog post, it can parse markdown and show html to web server. So you can just edit easy-to-read tags and contend markdown file(txt file). And then give to jekyll, and it will handle the left work."
   ]
  },
  {
   "cell_type": "markdown",
   "metadata": {},
   "source": [
    "Markdown is good, but not good enough. If you want to show code and it's output, you have to run it in other system, and copy the code and output seperately to markdown file. Sometimes, you need to handle the format as well."
   ]
  },
  {
   "cell_type": "markdown",
   "metadata": {},
   "source": [
    "Jupyter notebook(or ipython notebook) is a fantastic tool to implement the process above. You can just wirte code in it, and run on the same page, the output will be saved in the file automaticlly into a ipynb fiel. And you can show it to others in a jupyter server."
   ]
  },
  {
   "cell_type": "markdown",
   "metadata": {},
   "source": [
    "Now we try to merge jekyll and notebook, we use notebook to write page in ipynb format, then try to convert ipynb to markdown. Then we can deploy it as jekyll post."
   ]
  },
  {
   "cell_type": "markdown",
   "metadata": {},
   "source": [
    "We'll discuss how to finish the jupyter notebook part: write ipynb and convert to markdown. You can check previous post about deploy jekyll on github for blog."
   ]
  },
  {
   "cell_type": "markdown",
   "metadata": {},
   "source": [
    "##### 1.install jupyter"
   ]
  },
  {
   "cell_type": "markdown",
   "metadata": {},
   "source": [
    "##### 2.wirte ipynb file"
   ]
  },
  {
   "cell_type": "markdown",
   "metadata": {},
   "source": [
    "##### 3.convert ipynb to markdown"
   ]
  },
  {
   "cell_type": "markdown",
   "metadata": {},
   "source": [
    "### Questions:"
   ]
  },
  {
   "cell_type": "markdown",
   "metadata": {},
   "source": [
    "### History:"
   ]
  },
  {
   "cell_type": "markdown",
   "metadata": {},
   "source": [
    "* <em>2017-08-06</em>: create post to discuss how to use jupyter notebook to wirte post for jekyll"
   ]
  }
 ],
 "metadata": {
  "kernelspec": {
   "display_name": "Python 2",
   "language": "python",
   "name": "python2"
  },
  "language_info": {
   "codemirror_mode": {
    "name": "ipython",
    "version": 2
   },
   "file_extension": ".py",
   "mimetype": "text/x-python",
   "name": "python",
   "nbconvert_exporter": "python",
   "pygments_lexer": "ipython2",
   "version": "2.7.12"
  }
 },
 "nbformat": 4,
 "nbformat_minor": 2
}
